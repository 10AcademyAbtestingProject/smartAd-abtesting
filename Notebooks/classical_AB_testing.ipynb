{
 "cells": [
  {
   "cell_type": "code",
   "execution_count": 10,
   "id": "ae854337",
   "metadata": {},
   "outputs": [],
   "source": [
    "import numpy as np\n",
    "import pandas as pd\n",
    "import matplotlib.pyplot as plt\n",
    "import sys, os\n",
    "import warnings\n",
    "import scipy\n",
    "import scipy.stats as scs\n",
    "%matplotlib inline\n",
    "warnings.filterwarnings(\"ignore\")"
   ]
  },
  {
   "cell_type": "code",
   "execution_count": 9,
   "id": "9dc1cbc5",
   "metadata": {},
   "outputs": [],
   "source": [
    "sys.path.append(os.path.abspath(os.path.join('../scripts')))\n",
    "from eda_plot import *\n",
    "from ABtesting import *"
   ]
  },
  {
   "cell_type": "code",
   "execution_count": 11,
   "id": "b3c7a49b",
   "metadata": {},
   "outputs": [
    {
     "data": {
      "text/html": [
       "<div>\n",
       "<style scoped>\n",
       "    .dataframe tbody tr th:only-of-type {\n",
       "        vertical-align: middle;\n",
       "    }\n",
       "\n",
       "    .dataframe tbody tr th {\n",
       "        vertical-align: top;\n",
       "    }\n",
       "\n",
       "    .dataframe thead th {\n",
       "        text-align: right;\n",
       "    }\n",
       "</style>\n",
       "<table border=\"1\" class=\"dataframe\">\n",
       "  <thead>\n",
       "    <tr style=\"text-align: right;\">\n",
       "      <th></th>\n",
       "      <th>auction_id</th>\n",
       "      <th>experiment</th>\n",
       "      <th>date</th>\n",
       "      <th>hour</th>\n",
       "      <th>device_make</th>\n",
       "      <th>platform_os</th>\n",
       "      <th>browser</th>\n",
       "      <th>yes</th>\n",
       "      <th>no</th>\n",
       "    </tr>\n",
       "  </thead>\n",
       "  <tbody>\n",
       "    <tr>\n",
       "      <th>0</th>\n",
       "      <td>0008ef63-77a7-448b-bd1e-075f42c55e39</td>\n",
       "      <td>exposed</td>\n",
       "      <td>2020-07-10</td>\n",
       "      <td>8</td>\n",
       "      <td>Generic Smartphone</td>\n",
       "      <td>6</td>\n",
       "      <td>Chrome Mobile</td>\n",
       "      <td>0</td>\n",
       "      <td>0</td>\n",
       "    </tr>\n",
       "    <tr>\n",
       "      <th>1</th>\n",
       "      <td>000eabc5-17ce-4137-8efe-44734d914446</td>\n",
       "      <td>exposed</td>\n",
       "      <td>2020-07-07</td>\n",
       "      <td>10</td>\n",
       "      <td>Generic Smartphone</td>\n",
       "      <td>6</td>\n",
       "      <td>Chrome Mobile</td>\n",
       "      <td>0</td>\n",
       "      <td>0</td>\n",
       "    </tr>\n",
       "    <tr>\n",
       "      <th>2</th>\n",
       "      <td>0016d14a-ae18-4a02-a204-6ba53b52f2ed</td>\n",
       "      <td>exposed</td>\n",
       "      <td>2020-07-05</td>\n",
       "      <td>2</td>\n",
       "      <td>E5823</td>\n",
       "      <td>6</td>\n",
       "      <td>Chrome Mobile WebView</td>\n",
       "      <td>0</td>\n",
       "      <td>1</td>\n",
       "    </tr>\n",
       "    <tr>\n",
       "      <th>3</th>\n",
       "      <td>00187412-2932-4542-a8ef-3633901c98d9</td>\n",
       "      <td>control</td>\n",
       "      <td>2020-07-03</td>\n",
       "      <td>15</td>\n",
       "      <td>Samsung SM-A705FN</td>\n",
       "      <td>6</td>\n",
       "      <td>Facebook</td>\n",
       "      <td>0</td>\n",
       "      <td>0</td>\n",
       "    </tr>\n",
       "    <tr>\n",
       "      <th>4</th>\n",
       "      <td>001a7785-d3fe-4e11-a344-c8735acacc2c</td>\n",
       "      <td>control</td>\n",
       "      <td>2020-07-03</td>\n",
       "      <td>15</td>\n",
       "      <td>Generic Smartphone</td>\n",
       "      <td>6</td>\n",
       "      <td>Chrome Mobile</td>\n",
       "      <td>0</td>\n",
       "      <td>0</td>\n",
       "    </tr>\n",
       "    <tr>\n",
       "      <th>...</th>\n",
       "      <td>...</td>\n",
       "      <td>...</td>\n",
       "      <td>...</td>\n",
       "      <td>...</td>\n",
       "      <td>...</td>\n",
       "      <td>...</td>\n",
       "      <td>...</td>\n",
       "      <td>...</td>\n",
       "      <td>...</td>\n",
       "    </tr>\n",
       "    <tr>\n",
       "      <th>8072</th>\n",
       "      <td>ffea24ec-cec1-43fb-b1d1-8f93828c2be2</td>\n",
       "      <td>exposed</td>\n",
       "      <td>2020-07-05</td>\n",
       "      <td>7</td>\n",
       "      <td>Generic Smartphone</td>\n",
       "      <td>6</td>\n",
       "      <td>Chrome Mobile</td>\n",
       "      <td>0</td>\n",
       "      <td>0</td>\n",
       "    </tr>\n",
       "    <tr>\n",
       "      <th>8073</th>\n",
       "      <td>ffea3210-2c3e-426f-a77d-0aa72e73b20f</td>\n",
       "      <td>control</td>\n",
       "      <td>2020-07-03</td>\n",
       "      <td>15</td>\n",
       "      <td>Generic Smartphone</td>\n",
       "      <td>6</td>\n",
       "      <td>Chrome Mobile</td>\n",
       "      <td>0</td>\n",
       "      <td>0</td>\n",
       "    </tr>\n",
       "    <tr>\n",
       "      <th>8074</th>\n",
       "      <td>ffeaa0f1-1d72-4ba9-afb4-314b3b00a7c7</td>\n",
       "      <td>control</td>\n",
       "      <td>2020-07-04</td>\n",
       "      <td>9</td>\n",
       "      <td>Generic Smartphone</td>\n",
       "      <td>6</td>\n",
       "      <td>Chrome Mobile</td>\n",
       "      <td>0</td>\n",
       "      <td>0</td>\n",
       "    </tr>\n",
       "    <tr>\n",
       "      <th>8075</th>\n",
       "      <td>ffeeed62-3f7c-4a6e-8ba7-95d303d40969</td>\n",
       "      <td>exposed</td>\n",
       "      <td>2020-07-05</td>\n",
       "      <td>15</td>\n",
       "      <td>Samsung SM-A515F</td>\n",
       "      <td>6</td>\n",
       "      <td>Samsung Internet</td>\n",
       "      <td>0</td>\n",
       "      <td>0</td>\n",
       "    </tr>\n",
       "    <tr>\n",
       "      <th>8076</th>\n",
       "      <td>fffbb9ff-568a-41a5-a0c3-6866592f80d8</td>\n",
       "      <td>control</td>\n",
       "      <td>2020-07-10</td>\n",
       "      <td>14</td>\n",
       "      <td>Samsung SM-G960F</td>\n",
       "      <td>6</td>\n",
       "      <td>Facebook</td>\n",
       "      <td>0</td>\n",
       "      <td>0</td>\n",
       "    </tr>\n",
       "  </tbody>\n",
       "</table>\n",
       "<p>8077 rows × 9 columns</p>\n",
       "</div>"
      ],
      "text/plain": [
       "                                auction_id experiment        date  hour  \\\n",
       "0     0008ef63-77a7-448b-bd1e-075f42c55e39    exposed  2020-07-10     8   \n",
       "1     000eabc5-17ce-4137-8efe-44734d914446    exposed  2020-07-07    10   \n",
       "2     0016d14a-ae18-4a02-a204-6ba53b52f2ed    exposed  2020-07-05     2   \n",
       "3     00187412-2932-4542-a8ef-3633901c98d9    control  2020-07-03    15   \n",
       "4     001a7785-d3fe-4e11-a344-c8735acacc2c    control  2020-07-03    15   \n",
       "...                                    ...        ...         ...   ...   \n",
       "8072  ffea24ec-cec1-43fb-b1d1-8f93828c2be2    exposed  2020-07-05     7   \n",
       "8073  ffea3210-2c3e-426f-a77d-0aa72e73b20f    control  2020-07-03    15   \n",
       "8074  ffeaa0f1-1d72-4ba9-afb4-314b3b00a7c7    control  2020-07-04     9   \n",
       "8075  ffeeed62-3f7c-4a6e-8ba7-95d303d40969    exposed  2020-07-05    15   \n",
       "8076  fffbb9ff-568a-41a5-a0c3-6866592f80d8    control  2020-07-10    14   \n",
       "\n",
       "             device_make  platform_os                browser  yes  no  \n",
       "0     Generic Smartphone            6          Chrome Mobile    0   0  \n",
       "1     Generic Smartphone            6          Chrome Mobile    0   0  \n",
       "2                  E5823            6  Chrome Mobile WebView    0   1  \n",
       "3      Samsung SM-A705FN            6               Facebook    0   0  \n",
       "4     Generic Smartphone            6          Chrome Mobile    0   0  \n",
       "...                  ...          ...                    ...  ...  ..  \n",
       "8072  Generic Smartphone            6          Chrome Mobile    0   0  \n",
       "8073  Generic Smartphone            6          Chrome Mobile    0   0  \n",
       "8074  Generic Smartphone            6          Chrome Mobile    0   0  \n",
       "8075    Samsung SM-A515F            6       Samsung Internet    0   0  \n",
       "8076    Samsung SM-G960F            6               Facebook    0   0  \n",
       "\n",
       "[8077 rows x 9 columns]"
      ]
     },
     "execution_count": 11,
     "metadata": {},
     "output_type": "execute_result"
    }
   ],
   "source": [
    "# reading the csv file\n",
    "missing_values = [\"n/a\", \"na\", \"undefined\"]\n",
    "df = pd.read_csv(\"../data/AdSmartABdata.csv\", na_values=missing_values)\n",
    "df"
   ]
  },
  {
   "cell_type": "code",
   "execution_count": 12,
   "id": "008c4515",
   "metadata": {},
   "outputs": [
    {
     "data": {
      "text/plain": [
       "(1243, 9)"
      ]
     },
     "execution_count": 12,
     "metadata": {},
     "output_type": "execute_result"
    }
   ],
   "source": [
    "respond_df = df.query(\"not (yes == 0 & no == 0)\")\n",
    "respond_df.shape"
   ]
  },
  {
   "cell_type": "raw",
   "id": "93edcef6",
   "metadata": {},
   "source": [
    "Drop the users who did not respond"
   ]
  },
  {
   "cell_type": "code",
   "execution_count": 13,
   "id": "cf4eb835",
   "metadata": {},
   "outputs": [
    {
     "data": {
      "text/html": [
       "<div>\n",
       "<style scoped>\n",
       "    .dataframe tbody tr th:only-of-type {\n",
       "        vertical-align: middle;\n",
       "    }\n",
       "\n",
       "    .dataframe tbody tr th {\n",
       "        vertical-align: top;\n",
       "    }\n",
       "\n",
       "    .dataframe thead th {\n",
       "        text-align: right;\n",
       "    }\n",
       "</style>\n",
       "<table border=\"1\" class=\"dataframe\">\n",
       "  <thead>\n",
       "    <tr style=\"text-align: right;\">\n",
       "      <th></th>\n",
       "      <th>experiment</th>\n",
       "      <th>aware</th>\n",
       "    </tr>\n",
       "    <tr>\n",
       "      <th>auction_id</th>\n",
       "      <th></th>\n",
       "      <th></th>\n",
       "    </tr>\n",
       "  </thead>\n",
       "  <tbody>\n",
       "    <tr>\n",
       "      <th>0016d14a-ae18-4a02-a204-6ba53b52f2ed</th>\n",
       "      <td>exposed</td>\n",
       "      <td>0</td>\n",
       "    </tr>\n",
       "    <tr>\n",
       "      <th>008aafdf-deef-4482-8fec-d98e3da054da</th>\n",
       "      <td>exposed</td>\n",
       "      <td>1</td>\n",
       "    </tr>\n",
       "    <tr>\n",
       "      <th>00a1384a-5118-4d1b-925b-6cdada50318d</th>\n",
       "      <td>exposed</td>\n",
       "      <td>0</td>\n",
       "    </tr>\n",
       "    <tr>\n",
       "      <th>00b6fadb-10bd-49e3-a778-290da82f7a8d</th>\n",
       "      <td>control</td>\n",
       "      <td>1</td>\n",
       "    </tr>\n",
       "    <tr>\n",
       "      <th>00ebf4a8-060f-4b99-93ac-c62724399483</th>\n",
       "      <td>control</td>\n",
       "      <td>0</td>\n",
       "    </tr>\n",
       "    <tr>\n",
       "      <th>...</th>\n",
       "      <td>...</td>\n",
       "      <td>...</td>\n",
       "    </tr>\n",
       "    <tr>\n",
       "      <th>ffa08ff9-a132-4051-aef5-01a9c79367bc</th>\n",
       "      <td>exposed</td>\n",
       "      <td>1</td>\n",
       "    </tr>\n",
       "    <tr>\n",
       "      <th>ffb176df-ecd2-45d3-b05f-05b173a093a7</th>\n",
       "      <td>exposed</td>\n",
       "      <td>1</td>\n",
       "    </tr>\n",
       "    <tr>\n",
       "      <th>ffb79718-6f25-4896-b6b3-e58b80a6e147</th>\n",
       "      <td>control</td>\n",
       "      <td>0</td>\n",
       "    </tr>\n",
       "    <tr>\n",
       "      <th>ffca1153-c182-4f32-9e90-2a6008417497</th>\n",
       "      <td>control</td>\n",
       "      <td>0</td>\n",
       "    </tr>\n",
       "    <tr>\n",
       "      <th>ffdfdc09-48c7-4bfb-80f8-ec1eb633602b</th>\n",
       "      <td>exposed</td>\n",
       "      <td>0</td>\n",
       "    </tr>\n",
       "  </tbody>\n",
       "</table>\n",
       "<p>1243 rows × 2 columns</p>\n",
       "</div>"
      ],
      "text/plain": [
       "                                     experiment  aware\n",
       "auction_id                                            \n",
       "0016d14a-ae18-4a02-a204-6ba53b52f2ed    exposed      0\n",
       "008aafdf-deef-4482-8fec-d98e3da054da    exposed      1\n",
       "00a1384a-5118-4d1b-925b-6cdada50318d    exposed      0\n",
       "00b6fadb-10bd-49e3-a778-290da82f7a8d    control      1\n",
       "00ebf4a8-060f-4b99-93ac-c62724399483    control      0\n",
       "...                                         ...    ...\n",
       "ffa08ff9-a132-4051-aef5-01a9c79367bc    exposed      1\n",
       "ffb176df-ecd2-45d3-b05f-05b173a093a7    exposed      1\n",
       "ffb79718-6f25-4896-b6b3-e58b80a6e147    control      0\n",
       "ffca1153-c182-4f32-9e90-2a6008417497    control      0\n",
       "ffdfdc09-48c7-4bfb-80f8-ec1eb633602b    exposed      0\n",
       "\n",
       "[1243 rows x 2 columns]"
      ]
     },
     "execution_count": 13,
     "metadata": {},
     "output_type": "execute_result"
    }
   ],
   "source": [
    "clean_df = respond_df[['auction_id', 'experiment', 'yes', 'no']]\n",
    "clean_df['aware'] = 0\n",
    "clean_df.loc[clean_df['yes'] == 1, 'aware'] = 1\n",
    "clean_df.loc[clean_df['yes'] == 0, 'aware'] = 0\n",
    "clean_df.drop(columns=['yes', 'no'], inplace=True)\n",
    "clean_df = clean_df.set_index('auction_id')\n",
    "clean_df"
   ]
  },
  {
   "cell_type": "raw",
   "id": "352ee781",
   "metadata": {},
   "source": [
    "Yes and no colunms are merged and in to aware, so that we can identify conversion rate."
   ]
  },
  {
   "cell_type": "markdown",
   "id": "9559eea5",
   "metadata": {},
   "source": [
    "##### Summary of the data"
   ]
  },
  {
   "cell_type": "code",
   "execution_count": 14,
   "id": "b2581ae6",
   "metadata": {},
   "outputs": [
    {
     "data": {
      "text/html": [
       "<div>\n",
       "<style scoped>\n",
       "    .dataframe tbody tr th:only-of-type {\n",
       "        vertical-align: middle;\n",
       "    }\n",
       "\n",
       "    .dataframe tbody tr th {\n",
       "        vertical-align: top;\n",
       "    }\n",
       "\n",
       "    .dataframe thead th {\n",
       "        text-align: right;\n",
       "    }\n",
       "</style>\n",
       "<table border=\"1\" class=\"dataframe\">\n",
       "  <thead>\n",
       "    <tr style=\"text-align: right;\">\n",
       "      <th></th>\n",
       "      <th>aware</th>\n",
       "      <th>not aware</th>\n",
       "      <th>total</th>\n",
       "      <th>rate</th>\n",
       "    </tr>\n",
       "    <tr>\n",
       "      <th>experiment</th>\n",
       "      <th></th>\n",
       "      <th></th>\n",
       "      <th></th>\n",
       "      <th></th>\n",
       "    </tr>\n",
       "  </thead>\n",
       "  <tbody>\n",
       "    <tr>\n",
       "      <th>control</th>\n",
       "      <td>264</td>\n",
       "      <td>322</td>\n",
       "      <td>586</td>\n",
       "      <td>0.450512</td>\n",
       "    </tr>\n",
       "    <tr>\n",
       "      <th>exposed</th>\n",
       "      <td>308</td>\n",
       "      <td>349</td>\n",
       "      <td>657</td>\n",
       "      <td>0.468798</td>\n",
       "    </tr>\n",
       "  </tbody>\n",
       "</table>\n",
       "</div>"
      ],
      "text/plain": [
       "            aware  not aware  total      rate\n",
       "experiment                                   \n",
       "control       264        322    586  0.450512\n",
       "exposed       308        349    657  0.468798"
      ]
     },
     "execution_count": 14,
     "metadata": {},
     "output_type": "execute_result"
    }
   ],
   "source": [
    "summary_df = clean_df.pivot_table( index='experiment', aggfunc='sum')\n",
    "summary_df['total'] = clean_df.pivot_table( index='experiment', aggfunc='count')\n",
    "summary_df['rate'] = clean_df.pivot_table( index='experiment')\n",
    "summary_df['not aware'] = summary_df['total'] - summary_df['aware']\n",
    "summary_df = summary_df.reindex(['aware', 'not aware', 'total', 'rate'], axis=1)\n",
    "summary_df"
   ]
  },
  {
   "cell_type": "code",
   "execution_count": 15,
   "id": "3906489a",
   "metadata": {},
   "outputs": [],
   "source": [
    "exp_rate = summary_df['rate']['exposed']\n",
    "cont_rate = summary_df['rate']['control']"
   ]
  },
  {
   "cell_type": "code",
   "execution_count": 16,
   "id": "5c63014f",
   "metadata": {},
   "outputs": [],
   "source": [
    "exp_aware = summary_df['aware']['exposed']\n",
    "cont_aware = summary_df['aware']['control']"
   ]
  },
  {
   "cell_type": "code",
   "execution_count": 17,
   "id": "09afc889",
   "metadata": {},
   "outputs": [],
   "source": [
    "exp_total = summary_df['total']['exposed']\n",
    "cont_total = summary_df['total']['control']"
   ]
  },
  {
   "cell_type": "code",
   "execution_count": 18,
   "id": "2b310a33",
   "metadata": {},
   "outputs": [],
   "source": [
    "diff = exp_rate - cont_rate"
   ]
  },
  {
   "cell_type": "code",
   "execution_count": 19,
   "id": "f8d4c0d9",
   "metadata": {},
   "outputs": [
    {
     "name": "stdout",
     "output_type": "stream",
     "text": [
      "The difference between conversion rates of the test and control groups is 0.018285619295484168.\n"
     ]
    }
   ],
   "source": [
    "print(f'The difference between conversion rates of the test and control groups is {diff}.')"
   ]
  },
  {
   "cell_type": "raw",
   "id": "a6c96680",
   "metadata": {},
   "source": [
    "This is a good sign, but this is not enough evidence for us to be confident. we will perform hypothesis testing."
   ]
  },
  {
   "cell_type": "markdown",
   "id": "f05944df",
   "metadata": {},
   "source": [
    "#### Binomial Distributions"
   ]
  },
  {
   "cell_type": "code",
   "execution_count": 20,
   "id": "8769405d",
   "metadata": {},
   "outputs": [
    {
     "data": {
      "image/png": "[encoded data removed]",
      "text/plain": [
       "<Figure size 864x432 with 1 Axes>"
      ]
     },
     "metadata": {
      "needs_background": "light"
     },
     "output_type": "display_data"
    }
   ],
   "source": [
    "fig, ax = plt.subplots(figsize=(12, 6))\n",
    "\n",
    "xC = np.linspace(cont_aware - 49, cont_aware + 50, 100)\n",
    "yC = scs.binom(cont_total, cont_rate).pmf(xC)\n",
    "ax.bar(xC, yC, alpha=0.5, linestyle='--')\n",
    "xE = np.linspace(exp_aware - 49, exp_aware + 50, 100)\n",
    "yE = scs.binom(exp_total , exp_rate).pmf(xE)\n",
    "ax.bar(xE, yE, alpha=0.5, linestyle='--')\n",
    "plt.xlabel('awareness')\n",
    "plt.ylabel('probability')\n",
    "plt.show()"
   ]
  },
  {
   "cell_type": "raw",
   "id": "a0fe6b9d",
   "metadata": {},
   "source": [
    "The distribution in blue is the probability of conversions for the control group while the distribution in orange is the probability of conversions for the exposed group. As we can see there is a difference the mean of the two distributions."
   ]
  },
  {
   "cell_type": "markdown",
   "id": "a7425276",
   "metadata": {},
   "source": [
    "#### Distribution of the sample means"
   ]
  },
  {
   "cell_type": "code",
   "execution_count": 21,
   "id": "7d55140d",
   "metadata": {},
   "outputs": [],
   "source": [
    "# standard error of the mean\n",
    "SE_C = np.sqrt(cont_rate * (1-cont_rate)) / np.sqrt(cont_total)\n",
    "SE_E = np.sqrt(exp_rate * (1-exp_rate)) / np.sqrt(exp_total)"
   ]
  },
  {
   "cell_type": "code",
   "execution_count": 22,
   "id": "e28a2aa0",
   "metadata": {},
   "outputs": [
    {
     "data": {
      "image/png": "[encoded data removed]",
      "text/plain": [
       "<Figure size 720x360 with 1 Axes>"
      ]
     },
     "metadata": {
      "needs_background": "light"
     },
     "output_type": "display_data"
    }
   ],
   "source": [
    "fig, ax = plt.subplots(figsize=(10, 5))\n",
    "x = np.linspace(.35, .6, 1000)\n",
    "\n",
    "yC = scs.norm(cont_rate, SE_C).pdf(x)\n",
    "ax.plot(x, yC, label='Control')\n",
    "ax.axvline(x=cont_rate, c='red', alpha=0.5, linestyle='--')\n",
    "\n",
    "yE = scs.norm(exp_rate, SE_E).pdf(x)\n",
    "ax.plot(x, yE, label='Exposed')\n",
    "ax.axvline(x=exp_rate, c='blue', alpha=0.5, linestyle='--')\n",
    "\n",
    "plt.legend()\n",
    "plt.xlabel('Awareness Proportion')\n",
    "plt.ylabel('PDF')\n",
    "plt.show()"
   ]
  },
  {
   "cell_type": "code",
   "execution_count": null,
   "id": "2429a89e",
   "metadata": {},
   "outputs": [],
   "source": []
  }
 ],
 "metadata": {
  "kernelspec": {
   "display_name": "Python 3 (ipykernel)",
   "language": "python",
   "name": "python3"
  },
  "language_info": {
   "codemirror_mode": {
    "name": "ipython",
    "version": 3
   },
   "file_extension": ".py",
   "mimetype": "text/x-python",
   "name": "python",
   "nbconvert_exporter": "python",
   "pygments_lexer": "ipython3",
   "version": "3.9.7"
  }
 },
 "nbformat": 4,
 "nbformat_minor": 5
}
