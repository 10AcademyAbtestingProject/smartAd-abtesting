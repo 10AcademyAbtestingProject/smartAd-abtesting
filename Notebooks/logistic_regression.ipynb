{
 "cells": [
  {
   "cell_type": "markdown",
   "metadata": {},
   "source": [
    "# Random Forest Model using sklearn"
   ]
  },
  {
   "cell_type": "code",
   "execution_count": 12,
   "metadata": {},
   "outputs": [],
   "source": [
    "# Importing Pandas an Numpy Libraries to use on manipulating our Data\n",
    "import pandas as pd\n",
    "import numpy as np\n",
    "\n",
    "from sklearn.ensemble import RandomForestClassifier\n",
    "from sklearn.linear_model import LogisticRegression\n",
    "from sklearn.model_selection import cross_val_score\n",
    "\n",
    "import dvc.api\n",
    "import io\n",
    "\n",
    "import sys\n",
    "sys.path.append(\"../\")\n",
    "\n",
    "from Scripts.modeling_pipeline import run_train_pipeline, get_pipeline\n"
   ]
  },
  {
   "cell_type": "markdown",
   "metadata": {},
   "source": [
    "## Steps to get the data\n",
    "\n",
    "1. Make sure you are in sync with the latest main branch.\n",
    "2. run `dvc pull` to get the latest data versions\n",
    "3. In the next cell change the `version` and `path` to access the file you want.\n",
    "\n",
    "you can find the file names by exploring the data folder.\n",
    "For the versions, follow this:\n",
    "\n",
    " - all files starting with `browser_` can be accessed starting from version=v1.1.1\n",
    " - all files starting with `brand_` can be accessed starting from version=v1.1.2\n",
    " - you can find the cleaned data with `device_make` converted to `brands` at version=v1.1\n",
    " - you can find the cleaned raw data at version=v1\n",
    " - you can find the raw data at version=v0\n",
    "  \n",
    "\n",
    "The last 3 files have the same name `AdSmartABdata.csv`"
   ]
  },
  {
   "cell_type": "code",
   "execution_count": 10,
   "metadata": {},
   "outputs": [
    {
     "name": "stdout",
     "output_type": "stream",
     "text": [
      "<class 'pandas.core.frame.DataFrame'>\n",
      "RangeIndex: 1226 entries, 0 to 1225\n",
      "Data columns (total 6 columns):\n",
      " #   Column       Non-Null Count  Dtype \n",
      "---  ------       --------------  ----- \n",
      " 0   experiment   1226 non-null   object\n",
      " 1   hour         1226 non-null   int64 \n",
      " 2   browser      1226 non-null   object\n",
      " 3   day_of_week  1226 non-null   object\n",
      " 4   brand        1226 non-null   object\n",
      " 5   response     1226 non-null   int64 \n",
      "dtypes: int64(2), object(4)\n",
      "memory usage: 57.6+ KB\n"
     ]
    }
   ],
   "source": [
    "def dvc_get_data(path='Data/platform_os_6.csv', version='v3'):\n",
    "    repo = \"../\"\n",
    "    content = dvc.api.read(path=path, \n",
    "                    repo=repo, \n",
    "                    rev=version)\n",
    "    df = pd.read_csv(io.StringIO(content), sep=\",\")\n",
    "\n",
    "    return df\n",
    "\n",
    "df = dvc_get_data()\n",
    "df.info()\n"
   ]
  },
  {
   "cell_type": "code",
   "execution_count": 15,
   "metadata": {},
   "outputs": [],
   "source": [
    "x = df.drop(columns=['response'])\n",
    "y = df['response'].values"
   ]
  },
  {
   "cell_type": "code",
   "execution_count": 14,
   "metadata": {},
   "outputs": [],
   "source": [
    "model = LogisticRegression()\n"
   ]
  },
  {
   "cell_type": "code",
   "execution_count": 16,
   "metadata": {},
   "outputs": [
    {
     "name": "stderr",
     "output_type": "stream",
     "text": [
      "2022/05/20 18:10:11 INFO mlflow.tracking.fluent: Experiment with name 'Baseline Logistic regression model' does not exist. Creating a new experiment.\n"
     ]
    }
   ],
   "source": [
    "run_train_pipeline(model, x, y, \n",
    "                experiment_name='Baseline Logistic regression model',\n",
    "                run_name='First run')"
   ]
  }
 ],
 "metadata": {
  "interpreter": {
   "hash": "4ed4c3eeacb70c65ef565cff1b10adeea3c265f5f9fae060acddef7e11cbf760"
  },
  "kernelspec": {
   "display_name": "Python 3.10.4 ('venv': venv)",
   "language": "python",
   "name": "python3"
  },
  "language_info": {
   "codemirror_mode": {
    "name": "ipython",
    "version": 3
   },
   "file_extension": ".py",
   "mimetype": "text/x-python",
   "name": "python",
   "nbconvert_exporter": "python",
   "pygments_lexer": "ipython3",
   "version": "3.10.4"
  },
  "orig_nbformat": 4
 },
 "nbformat": 4,
 "nbformat_minor": 2
}
