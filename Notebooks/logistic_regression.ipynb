{
 "cells": [
  {
   "cell_type": "markdown",
   "metadata": {},
   "source": [
    "# Logistic Regression Model using sklearn"
   ]
  },
  {
   "cell_type": "code",
   "execution_count": 1,
   "metadata": {},
   "outputs": [],
   "source": [
    "# Importing Pandas an Numpy Libraries to use on manipulating our Data\n",
    "import pandas as pd\n",
    "import numpy as np\n",
    "\n",
    "from sklearn.ensemble import RandomForestClassifier\n",
    "from sklearn.linear_model import LogisticRegression\n",
    "from sklearn.model_selection import cross_val_score\n",
    "\n",
    "import dvc.api\n",
    "import io\n",
    "\n",
    "import sys\n",
    "sys.path.append(\"../\")\n",
    "\n",
    "from Scripts.modeling_pipeline import run_train_pipeline, get_pipeline\n"
   ]
  },
  {
   "cell_type": "markdown",
   "metadata": {},
   "source": [
    "## Steps to get the data\n",
    "\n",
    "1. Make sure you are in sync with the latest main branch.\n",
    "2. run `dvc pull` to get the latest data versions\n",
    "3. In the next cell change the `version` and `path` to access the file you want.\n",
    "\n",
    "you can find the file names by exploring the data folder.\n",
    "For the versions, follow this:\n",
    "\n",
    " - all files starting with `browser_` can be accessed starting from version=v1.1.1\n",
    " - all files starting with `brand_` can be accessed starting from version=v1.1.2\n",
    " - you can find the cleaned data with `device_make` converted to `brands` at version=v1.1\n",
    " - you can find the cleaned raw data at version=v1\n",
    " - you can find the raw data at version=v0\n",
    "  \n",
    "\n",
    "The last 3 files have the same name `AdSmartABdata.csv`"
   ]
  },
  {
   "cell_type": "code",
   "execution_count": 3,
   "metadata": {},
   "outputs": [
    {
     "ename": "RevError",
     "evalue": "unknown Git revision 'v0'",
     "output_type": "error",
     "traceback": [
      "\u001b[0;31m---------------------------------------------------------------------------\u001b[0m",
      "\u001b[0;31mRevError\u001b[0m                                  Traceback (most recent call last)",
      "File \u001b[0;32m~/dev-env/10Acadamy/smartAd-abtesting/venv/lib/python3.10/site-packages/dvc/scm.py:140\u001b[0m, in \u001b[0;36mresolve_rev\u001b[0;34m(scm, rev)\u001b[0m\n\u001b[1;32m    <a href='file:///home/hat/dev-env/10Acadamy/smartAd-abtesting/venv/lib/python3.10/site-packages/dvc/scm.py?line=138'>139</a>\u001b[0m \u001b[39mtry\u001b[39;00m:\n\u001b[0;32m--> <a href='file:///home/hat/dev-env/10Acadamy/smartAd-abtesting/venv/lib/python3.10/site-packages/dvc/scm.py?line=139'>140</a>\u001b[0m     \u001b[39mreturn\u001b[39;00m scm\u001b[39m.\u001b[39;49mresolve_rev(fix_exp_head(scm, rev))\n\u001b[1;32m    <a href='file:///home/hat/dev-env/10Acadamy/smartAd-abtesting/venv/lib/python3.10/site-packages/dvc/scm.py?line=140'>141</a>\u001b[0m \u001b[39mexcept\u001b[39;00m InternalRevError \u001b[39mas\u001b[39;00m exc:\n\u001b[1;32m    <a href='file:///home/hat/dev-env/10Acadamy/smartAd-abtesting/venv/lib/python3.10/site-packages/dvc/scm.py?line=141'>142</a>\u001b[0m     \u001b[39m# `scm` will only resolve git branch and tag names,\u001b[39;00m\n\u001b[1;32m    <a href='file:///home/hat/dev-env/10Acadamy/smartAd-abtesting/venv/lib/python3.10/site-packages/dvc/scm.py?line=142'>143</a>\u001b[0m     \u001b[39m# if rev is not a sha it may be an abbreviated experiment name\u001b[39;00m\n",
      "File \u001b[0;32m~/dev-env/10Acadamy/smartAd-abtesting/venv/lib/python3.10/site-packages/scmrepo/git/__init__.py:289\u001b[0m, in \u001b[0;36mGit._backend_func\u001b[0;34m(self, name, *args, **kwargs)\u001b[0m\n\u001b[1;32m    <a href='file:///home/hat/dev-env/10Acadamy/smartAd-abtesting/venv/lib/python3.10/site-packages/scmrepo/git/__init__.py?line=287'>288</a>\u001b[0m func \u001b[39m=\u001b[39m \u001b[39mgetattr\u001b[39m(backend, name)\n\u001b[0;32m--> <a href='file:///home/hat/dev-env/10Acadamy/smartAd-abtesting/venv/lib/python3.10/site-packages/scmrepo/git/__init__.py?line=288'>289</a>\u001b[0m result \u001b[39m=\u001b[39m func(\u001b[39m*\u001b[39;49margs, \u001b[39m*\u001b[39;49m\u001b[39m*\u001b[39;49mkwargs)\n\u001b[1;32m    <a href='file:///home/hat/dev-env/10Acadamy/smartAd-abtesting/venv/lib/python3.10/site-packages/scmrepo/git/__init__.py?line=289'>290</a>\u001b[0m \u001b[39mself\u001b[39m\u001b[39m.\u001b[39m_last_backend \u001b[39m=\u001b[39m key\n",
      "File \u001b[0;32m~/dev-env/10Acadamy/smartAd-abtesting/venv/lib/python3.10/site-packages/scmrepo/git/backend/pygit2.py:297\u001b[0m, in \u001b[0;36mPygit2Backend.resolve_rev\u001b[0;34m(self, rev)\u001b[0m\n\u001b[1;32m    <a href='file:///home/hat/dev-env/10Acadamy/smartAd-abtesting/venv/lib/python3.10/site-packages/scmrepo/git/backend/pygit2.py?line=295'>296</a>\u001b[0m     \u001b[39mreturn\u001b[39;00m shas\u001b[39m.\u001b[39mpop()  \u001b[39m# type: ignore\u001b[39;00m\n\u001b[0;32m--> <a href='file:///home/hat/dev-env/10Acadamy/smartAd-abtesting/venv/lib/python3.10/site-packages/scmrepo/git/backend/pygit2.py?line=296'>297</a>\u001b[0m \u001b[39mraise\u001b[39;00m RevError(\u001b[39mf\u001b[39m\u001b[39m\"\u001b[39m\u001b[39munknown Git revision \u001b[39m\u001b[39m'\u001b[39m\u001b[39m{\u001b[39;00mrev\u001b[39m}\u001b[39;00m\u001b[39m'\u001b[39m\u001b[39m\"\u001b[39m)\n",
      "\u001b[0;31mRevError\u001b[0m: unknown Git revision 'v0'",
      "\nDuring handling of the above exception, another exception occurred:\n",
      "\u001b[0;31mRevError\u001b[0m                                  Traceback (most recent call last)",
      "\u001b[1;32m/home/hat/dev-env/10Acadamy/smartAd-abtesting/Notebooks/logistic_regression.ipynb Cell 4'\u001b[0m in \u001b[0;36m<cell line: 10>\u001b[0;34m()\u001b[0m\n\u001b[1;32m      <a href='vscode-notebook-cell:/home/hat/dev-env/10Acadamy/smartAd-abtesting/Notebooks/logistic_regression.ipynb#ch0000003?line=5'>6</a>\u001b[0m     df \u001b[39m=\u001b[39m pd\u001b[39m.\u001b[39mread_csv(io\u001b[39m.\u001b[39mStringIO(content), sep\u001b[39m=\u001b[39m\u001b[39m\"\u001b[39m\u001b[39m,\u001b[39m\u001b[39m\"\u001b[39m)\n\u001b[1;32m      <a href='vscode-notebook-cell:/home/hat/dev-env/10Acadamy/smartAd-abtesting/Notebooks/logistic_regression.ipynb#ch0000003?line=7'>8</a>\u001b[0m     \u001b[39mreturn\u001b[39;00m df\n\u001b[0;32m---> <a href='vscode-notebook-cell:/home/hat/dev-env/10Acadamy/smartAd-abtesting/Notebooks/logistic_regression.ipynb#ch0000003?line=9'>10</a>\u001b[0m df \u001b[39m=\u001b[39m dvc_get_data()\n\u001b[1;32m     <a href='vscode-notebook-cell:/home/hat/dev-env/10Acadamy/smartAd-abtesting/Notebooks/logistic_regression.ipynb#ch0000003?line=10'>11</a>\u001b[0m df\u001b[39m.\u001b[39minfo()\n",
      "\u001b[1;32m/home/hat/dev-env/10Acadamy/smartAd-abtesting/Notebooks/logistic_regression.ipynb Cell 4'\u001b[0m in \u001b[0;36mdvc_get_data\u001b[0;34m(path, version)\u001b[0m\n\u001b[1;32m      <a href='vscode-notebook-cell:/home/hat/dev-env/10Acadamy/smartAd-abtesting/Notebooks/logistic_regression.ipynb#ch0000003?line=0'>1</a>\u001b[0m \u001b[39mdef\u001b[39;00m \u001b[39mdvc_get_data\u001b[39m(path\u001b[39m=\u001b[39m\u001b[39m'\u001b[39m\u001b[39mData/platform_os_6.csv\u001b[39m\u001b[39m'\u001b[39m, version\u001b[39m=\u001b[39m\u001b[39m'\u001b[39m\u001b[39mv0\u001b[39m\u001b[39m'\u001b[39m):\n\u001b[1;32m      <a href='vscode-notebook-cell:/home/hat/dev-env/10Acadamy/smartAd-abtesting/Notebooks/logistic_regression.ipynb#ch0000003?line=1'>2</a>\u001b[0m     repo \u001b[39m=\u001b[39m \u001b[39m\"\u001b[39m\u001b[39m../\u001b[39m\u001b[39m\"\u001b[39m\n\u001b[0;32m----> <a href='vscode-notebook-cell:/home/hat/dev-env/10Acadamy/smartAd-abtesting/Notebooks/logistic_regression.ipynb#ch0000003?line=2'>3</a>\u001b[0m     content \u001b[39m=\u001b[39m dvc\u001b[39m.\u001b[39;49mapi\u001b[39m.\u001b[39;49mread(path\u001b[39m=\u001b[39;49mpath, \n\u001b[1;32m      <a href='vscode-notebook-cell:/home/hat/dev-env/10Acadamy/smartAd-abtesting/Notebooks/logistic_regression.ipynb#ch0000003?line=3'>4</a>\u001b[0m                         repo\u001b[39m=\u001b[39;49mrepo, \n\u001b[1;32m      <a href='vscode-notebook-cell:/home/hat/dev-env/10Acadamy/smartAd-abtesting/Notebooks/logistic_regression.ipynb#ch0000003?line=4'>5</a>\u001b[0m                         rev\u001b[39m=\u001b[39;49mversion)\n\u001b[1;32m      <a href='vscode-notebook-cell:/home/hat/dev-env/10Acadamy/smartAd-abtesting/Notebooks/logistic_regression.ipynb#ch0000003?line=5'>6</a>\u001b[0m     df \u001b[39m=\u001b[39m pd\u001b[39m.\u001b[39mread_csv(io\u001b[39m.\u001b[39mStringIO(content), sep\u001b[39m=\u001b[39m\u001b[39m\"\u001b[39m\u001b[39m,\u001b[39m\u001b[39m\"\u001b[39m)\n\u001b[1;32m      <a href='vscode-notebook-cell:/home/hat/dev-env/10Acadamy/smartAd-abtesting/Notebooks/logistic_regression.ipynb#ch0000003?line=7'>8</a>\u001b[0m     \u001b[39mreturn\u001b[39;00m df\n",
      "File \u001b[0;32m~/dev-env/10Acadamy/smartAd-abtesting/venv/lib/python3.10/site-packages/dvc/api.py:88\u001b[0m, in \u001b[0;36mread\u001b[0;34m(path, repo, rev, remote, mode, encoding)\u001b[0m\n\u001b[1;32m     <a href='file:///home/hat/dev-env/10Acadamy/smartAd-abtesting/venv/lib/python3.10/site-packages/dvc/api.py?line=81'>82</a>\u001b[0m \u001b[39mdef\u001b[39;00m \u001b[39mread\u001b[39m(path, repo\u001b[39m=\u001b[39m\u001b[39mNone\u001b[39;00m, rev\u001b[39m=\u001b[39m\u001b[39mNone\u001b[39;00m, remote\u001b[39m=\u001b[39m\u001b[39mNone\u001b[39;00m, mode\u001b[39m=\u001b[39m\u001b[39m\"\u001b[39m\u001b[39mr\u001b[39m\u001b[39m\"\u001b[39m, encoding\u001b[39m=\u001b[39m\u001b[39mNone\u001b[39;00m):\n\u001b[1;32m     <a href='file:///home/hat/dev-env/10Acadamy/smartAd-abtesting/venv/lib/python3.10/site-packages/dvc/api.py?line=82'>83</a>\u001b[0m     \u001b[39m\"\"\"\u001b[39;00m\n\u001b[1;32m     <a href='file:///home/hat/dev-env/10Acadamy/smartAd-abtesting/venv/lib/python3.10/site-packages/dvc/api.py?line=83'>84</a>\u001b[0m \u001b[39m    Returns the contents of a tracked file (by DVC or Git). For Git repos, HEAD\u001b[39;00m\n\u001b[1;32m     <a href='file:///home/hat/dev-env/10Acadamy/smartAd-abtesting/venv/lib/python3.10/site-packages/dvc/api.py?line=84'>85</a>\u001b[0m \u001b[39m    is used unless a rev argument is supplied. The default remote is tried\u001b[39;00m\n\u001b[1;32m     <a href='file:///home/hat/dev-env/10Acadamy/smartAd-abtesting/venv/lib/python3.10/site-packages/dvc/api.py?line=85'>86</a>\u001b[0m \u001b[39m    unless a remote argument is supplied.\u001b[39;00m\n\u001b[1;32m     <a href='file:///home/hat/dev-env/10Acadamy/smartAd-abtesting/venv/lib/python3.10/site-packages/dvc/api.py?line=86'>87</a>\u001b[0m \u001b[39m    \"\"\"\u001b[39;00m\n\u001b[0;32m---> <a href='file:///home/hat/dev-env/10Acadamy/smartAd-abtesting/venv/lib/python3.10/site-packages/dvc/api.py?line=87'>88</a>\u001b[0m     \u001b[39mwith\u001b[39;00m \u001b[39mopen\u001b[39m(\n\u001b[1;32m     <a href='file:///home/hat/dev-env/10Acadamy/smartAd-abtesting/venv/lib/python3.10/site-packages/dvc/api.py?line=88'>89</a>\u001b[0m         path, repo\u001b[39m=\u001b[39mrepo, rev\u001b[39m=\u001b[39mrev, remote\u001b[39m=\u001b[39mremote, mode\u001b[39m=\u001b[39mmode, encoding\u001b[39m=\u001b[39mencoding\n\u001b[1;32m     <a href='file:///home/hat/dev-env/10Acadamy/smartAd-abtesting/venv/lib/python3.10/site-packages/dvc/api.py?line=89'>90</a>\u001b[0m     ) \u001b[39mas\u001b[39;00m fd:\n\u001b[1;32m     <a href='file:///home/hat/dev-env/10Acadamy/smartAd-abtesting/venv/lib/python3.10/site-packages/dvc/api.py?line=90'>91</a>\u001b[0m         \u001b[39mreturn\u001b[39;00m fd\u001b[39m.\u001b[39mread()\n",
      "File \u001b[0;32m/usr/lib/python3.10/contextlib.py:135\u001b[0m, in \u001b[0;36m_GeneratorContextManager.__enter__\u001b[0;34m(self)\u001b[0m\n\u001b[1;32m    <a href='file:///usr/lib/python3.10/contextlib.py?line=132'>133</a>\u001b[0m \u001b[39mdel\u001b[39;00m \u001b[39mself\u001b[39m\u001b[39m.\u001b[39margs, \u001b[39mself\u001b[39m\u001b[39m.\u001b[39mkwds, \u001b[39mself\u001b[39m\u001b[39m.\u001b[39mfunc\n\u001b[1;32m    <a href='file:///usr/lib/python3.10/contextlib.py?line=133'>134</a>\u001b[0m \u001b[39mtry\u001b[39;00m:\n\u001b[0;32m--> <a href='file:///usr/lib/python3.10/contextlib.py?line=134'>135</a>\u001b[0m     \u001b[39mreturn\u001b[39;00m \u001b[39mnext\u001b[39;49m(\u001b[39mself\u001b[39;49m\u001b[39m.\u001b[39;49mgen)\n\u001b[1;32m    <a href='file:///usr/lib/python3.10/contextlib.py?line=135'>136</a>\u001b[0m \u001b[39mexcept\u001b[39;00m \u001b[39mStopIteration\u001b[39;00m:\n\u001b[1;32m    <a href='file:///usr/lib/python3.10/contextlib.py?line=136'>137</a>\u001b[0m     \u001b[39mraise\u001b[39;00m \u001b[39mRuntimeError\u001b[39;00m(\u001b[39m\"\u001b[39m\u001b[39mgenerator didn\u001b[39m\u001b[39m'\u001b[39m\u001b[39mt yield\u001b[39m\u001b[39m\"\u001b[39m) \u001b[39mfrom\u001b[39;00m \u001b[39mNone\u001b[39m\n",
      "File \u001b[0;32m~/dev-env/10Acadamy/smartAd-abtesting/venv/lib/python3.10/site-packages/dvc/api.py:75\u001b[0m, in \u001b[0;36m_open\u001b[0;34m(path, repo, rev, remote, mode, encoding)\u001b[0m\n\u001b[1;32m     <a href='file:///home/hat/dev-env/10Acadamy/smartAd-abtesting/venv/lib/python3.10/site-packages/dvc/api.py?line=73'>74</a>\u001b[0m \u001b[39mdef\u001b[39;00m \u001b[39m_open\u001b[39m(path, repo\u001b[39m=\u001b[39m\u001b[39mNone\u001b[39;00m, rev\u001b[39m=\u001b[39m\u001b[39mNone\u001b[39;00m, remote\u001b[39m=\u001b[39m\u001b[39mNone\u001b[39;00m, mode\u001b[39m=\u001b[39m\u001b[39m\"\u001b[39m\u001b[39mr\u001b[39m\u001b[39m\"\u001b[39m, encoding\u001b[39m=\u001b[39m\u001b[39mNone\u001b[39;00m):\n\u001b[0;32m---> <a href='file:///home/hat/dev-env/10Acadamy/smartAd-abtesting/venv/lib/python3.10/site-packages/dvc/api.py?line=74'>75</a>\u001b[0m     \u001b[39mwith\u001b[39;00m Repo\u001b[39m.\u001b[39;49mopen(repo, rev\u001b[39m=\u001b[39;49mrev, subrepos\u001b[39m=\u001b[39;49m\u001b[39mTrue\u001b[39;49;00m, uninitialized\u001b[39m=\u001b[39;49m\u001b[39mTrue\u001b[39;49;00m) \u001b[39mas\u001b[39;00m _repo:\n\u001b[1;32m     <a href='file:///home/hat/dev-env/10Acadamy/smartAd-abtesting/venv/lib/python3.10/site-packages/dvc/api.py?line=75'>76</a>\u001b[0m         \u001b[39mwith\u001b[39;00m _repo\u001b[39m.\u001b[39mopen_by_relpath(\n\u001b[1;32m     <a href='file:///home/hat/dev-env/10Acadamy/smartAd-abtesting/venv/lib/python3.10/site-packages/dvc/api.py?line=76'>77</a>\u001b[0m             path, remote\u001b[39m=\u001b[39mremote, mode\u001b[39m=\u001b[39mmode, encoding\u001b[39m=\u001b[39mencoding\n\u001b[1;32m     <a href='file:///home/hat/dev-env/10Acadamy/smartAd-abtesting/venv/lib/python3.10/site-packages/dvc/api.py?line=77'>78</a>\u001b[0m         ) \u001b[39mas\u001b[39;00m fd:\n\u001b[1;32m     <a href='file:///home/hat/dev-env/10Acadamy/smartAd-abtesting/venv/lib/python3.10/site-packages/dvc/api.py?line=78'>79</a>\u001b[0m             \u001b[39myield\u001b[39;00m fd\n",
      "File \u001b[0;32m~/dev-env/10Acadamy/smartAd-abtesting/venv/lib/python3.10/site-packages/dvc/repo/__init__.py:233\u001b[0m, in \u001b[0;36mRepo.open\u001b[0;34m(url, *args, **kwargs)\u001b[0m\n\u001b[1;32m    <a href='file:///home/hat/dev-env/10Acadamy/smartAd-abtesting/venv/lib/python3.10/site-packages/dvc/repo/__init__.py?line=230'>231</a>\u001b[0m \u001b[39mif\u001b[39;00m os\u001b[39m.\u001b[39mpath\u001b[39m.\u001b[39mexists(url):\n\u001b[1;32m    <a href='file:///home/hat/dev-env/10Acadamy/smartAd-abtesting/venv/lib/python3.10/site-packages/dvc/repo/__init__.py?line=231'>232</a>\u001b[0m     \u001b[39mtry\u001b[39;00m:\n\u001b[0;32m--> <a href='file:///home/hat/dev-env/10Acadamy/smartAd-abtesting/venv/lib/python3.10/site-packages/dvc/repo/__init__.py?line=232'>233</a>\u001b[0m         \u001b[39mreturn\u001b[39;00m Repo(url, \u001b[39m*\u001b[39;49margs, \u001b[39m*\u001b[39;49m\u001b[39m*\u001b[39;49mkwargs)\n\u001b[1;32m    <a href='file:///home/hat/dev-env/10Acadamy/smartAd-abtesting/venv/lib/python3.10/site-packages/dvc/repo/__init__.py?line=233'>234</a>\u001b[0m     \u001b[39mexcept\u001b[39;00m NotDvcRepoError:\n\u001b[1;32m    <a href='file:///home/hat/dev-env/10Acadamy/smartAd-abtesting/venv/lib/python3.10/site-packages/dvc/repo/__init__.py?line=234'>235</a>\u001b[0m         \u001b[39mpass\u001b[39;00m  \u001b[39m# fallthrough to external_repo\u001b[39;00m\n",
      "File \u001b[0;32m~/dev-env/10Acadamy/smartAd-abtesting/venv/lib/python3.10/site-packages/dvc/repo/__init__.py:175\u001b[0m, in \u001b[0;36mRepo.__init__\u001b[0;34m(self, root_dir, fs, rev, subrepos, uninitialized, config, url, repo_factory)\u001b[0m\n\u001b[1;32m    <a href='file:///home/hat/dev-env/10Acadamy/smartAd-abtesting/venv/lib/python3.10/site-packages/dvc/repo/__init__.py?line=171'>172</a>\u001b[0m     \u001b[39mself\u001b[39m\u001b[39m.\u001b[39m_scm \u001b[39m=\u001b[39m SCM(root_dir \u001b[39mor\u001b[39;00m os\u001b[39m.\u001b[39mcurdir)\n\u001b[1;32m    <a href='file:///home/hat/dev-env/10Acadamy/smartAd-abtesting/venv/lib/python3.10/site-packages/dvc/repo/__init__.py?line=172'>173</a>\u001b[0m     \u001b[39mself\u001b[39m\u001b[39m.\u001b[39m_fs \u001b[39m=\u001b[39m GitFileSystem(scm\u001b[39m=\u001b[39m\u001b[39mself\u001b[39m\u001b[39m.\u001b[39m_scm, rev\u001b[39m=\u001b[39mrev)\n\u001b[0;32m--> <a href='file:///home/hat/dev-env/10Acadamy/smartAd-abtesting/venv/lib/python3.10/site-packages/dvc/repo/__init__.py?line=174'>175</a>\u001b[0m \u001b[39mself\u001b[39m\u001b[39m.\u001b[39mroot_dir, \u001b[39mself\u001b[39m\u001b[39m.\u001b[39mdvc_dir, \u001b[39mself\u001b[39m\u001b[39m.\u001b[39mtmp_dir \u001b[39m=\u001b[39m \u001b[39mself\u001b[39;49m\u001b[39m.\u001b[39;49m_get_repo_dirs(\n\u001b[1;32m    <a href='file:///home/hat/dev-env/10Acadamy/smartAd-abtesting/venv/lib/python3.10/site-packages/dvc/repo/__init__.py?line=175'>176</a>\u001b[0m     root_dir\u001b[39m=\u001b[39;49mroot_dir, fs\u001b[39m=\u001b[39;49m\u001b[39mself\u001b[39;49m\u001b[39m.\u001b[39;49mfs, uninitialized\u001b[39m=\u001b[39;49muninitialized\n\u001b[1;32m    <a href='file:///home/hat/dev-env/10Acadamy/smartAd-abtesting/venv/lib/python3.10/site-packages/dvc/repo/__init__.py?line=176'>177</a>\u001b[0m )\n\u001b[1;32m    <a href='file:///home/hat/dev-env/10Acadamy/smartAd-abtesting/venv/lib/python3.10/site-packages/dvc/repo/__init__.py?line=178'>179</a>\u001b[0m \u001b[39mself\u001b[39m\u001b[39m.\u001b[39mconfig \u001b[39m=\u001b[39m Config(\u001b[39mself\u001b[39m\u001b[39m.\u001b[39mdvc_dir, fs\u001b[39m=\u001b[39m\u001b[39mself\u001b[39m\u001b[39m.\u001b[39mfs, config\u001b[39m=\u001b[39mconfig)\n\u001b[1;32m    <a href='file:///home/hat/dev-env/10Acadamy/smartAd-abtesting/venv/lib/python3.10/site-packages/dvc/repo/__init__.py?line=179'>180</a>\u001b[0m \u001b[39mself\u001b[39m\u001b[39m.\u001b[39m_uninitialized \u001b[39m=\u001b[39m uninitialized\n",
      "File \u001b[0;32m~/dev-env/10Acadamy/smartAd-abtesting/venv/lib/python3.10/site-packages/dvc/repo/__init__.py:95\u001b[0m, in \u001b[0;36mRepo._get_repo_dirs\u001b[0;34m(self, root_dir, fs, uninitialized)\u001b[0m\n\u001b[1;32m     <a href='file:///home/hat/dev-env/10Acadamy/smartAd-abtesting/venv/lib/python3.10/site-packages/dvc/repo/__init__.py?line=92'>93</a>\u001b[0m tmp_dir \u001b[39m=\u001b[39m \u001b[39mNone\u001b[39;00m\n\u001b[1;32m     <a href='file:///home/hat/dev-env/10Acadamy/smartAd-abtesting/venv/lib/python3.10/site-packages/dvc/repo/__init__.py?line=93'>94</a>\u001b[0m \u001b[39mtry\u001b[39;00m:\n\u001b[0;32m---> <a href='file:///home/hat/dev-env/10Acadamy/smartAd-abtesting/venv/lib/python3.10/site-packages/dvc/repo/__init__.py?line=94'>95</a>\u001b[0m     root_dir \u001b[39m=\u001b[39m \u001b[39mself\u001b[39;49m\u001b[39m.\u001b[39;49mfind_root(root_dir, fs)\n\u001b[1;32m     <a href='file:///home/hat/dev-env/10Acadamy/smartAd-abtesting/venv/lib/python3.10/site-packages/dvc/repo/__init__.py?line=95'>96</a>\u001b[0m     dvc_dir \u001b[39m=\u001b[39m os\u001b[39m.\u001b[39mpath\u001b[39m.\u001b[39mjoin(root_dir, \u001b[39mself\u001b[39m\u001b[39m.\u001b[39mDVC_DIR)\n\u001b[1;32m     <a href='file:///home/hat/dev-env/10Acadamy/smartAd-abtesting/venv/lib/python3.10/site-packages/dvc/repo/__init__.py?line=96'>97</a>\u001b[0m     tmp_dir \u001b[39m=\u001b[39m os\u001b[39m.\u001b[39mpath\u001b[39m.\u001b[39mjoin(dvc_dir, \u001b[39m\"\u001b[39m\u001b[39mtmp\u001b[39m\u001b[39m\"\u001b[39m)\n",
      "File \u001b[0;32m~/dev-env/10Acadamy/smartAd-abtesting/venv/lib/python3.10/site-packages/dvc/repo/__init__.py:319\u001b[0m, in \u001b[0;36mRepo.find_root\u001b[0;34m(cls, root, fs)\u001b[0m\n\u001b[1;32m    <a href='file:///home/hat/dev-env/10Acadamy/smartAd-abtesting/venv/lib/python3.10/site-packages/dvc/repo/__init__.py?line=315'>316</a>\u001b[0m root_dir \u001b[39m=\u001b[39m os\u001b[39m.\u001b[39mpath\u001b[39m.\u001b[39mrealpath(root)\n\u001b[1;32m    <a href='file:///home/hat/dev-env/10Acadamy/smartAd-abtesting/venv/lib/python3.10/site-packages/dvc/repo/__init__.py?line=316'>317</a>\u001b[0m fs \u001b[39m=\u001b[39m fs \u001b[39mor\u001b[39;00m localfs\n\u001b[0;32m--> <a href='file:///home/hat/dev-env/10Acadamy/smartAd-abtesting/venv/lib/python3.10/site-packages/dvc/repo/__init__.py?line=318'>319</a>\u001b[0m \u001b[39mif\u001b[39;00m \u001b[39mnot\u001b[39;00m fs\u001b[39m.\u001b[39;49misdir(root_dir):\n\u001b[1;32m    <a href='file:///home/hat/dev-env/10Acadamy/smartAd-abtesting/venv/lib/python3.10/site-packages/dvc/repo/__init__.py?line=319'>320</a>\u001b[0m     \u001b[39mraise\u001b[39;00m NotDvcRepoError(\u001b[39mf\u001b[39m\u001b[39m\"\u001b[39m\u001b[39mdirectory \u001b[39m\u001b[39m'\u001b[39m\u001b[39m{\u001b[39;00mroot\u001b[39m}\u001b[39;00m\u001b[39m'\u001b[39m\u001b[39m does not exist\u001b[39m\u001b[39m\"\u001b[39m)\n\u001b[1;32m    <a href='file:///home/hat/dev-env/10Acadamy/smartAd-abtesting/venv/lib/python3.10/site-packages/dvc/repo/__init__.py?line=321'>322</a>\u001b[0m \u001b[39mwhile\u001b[39;00m \u001b[39mTrue\u001b[39;00m:\n",
      "File \u001b[0;32m~/dev-env/10Acadamy/smartAd-abtesting/venv/lib/python3.10/site-packages/dvc/fs/base.py:168\u001b[0m, in \u001b[0;36mFileSystem.isdir\u001b[0;34m(self, path)\u001b[0m\n\u001b[1;32m    <a href='file:///home/hat/dev-env/10Acadamy/smartAd-abtesting/venv/lib/python3.10/site-packages/dvc/fs/base.py?line=166'>167</a>\u001b[0m \u001b[39mdef\u001b[39;00m \u001b[39misdir\u001b[39m(\u001b[39mself\u001b[39m, path: AnyFSPath) \u001b[39m-\u001b[39m\u001b[39m>\u001b[39m \u001b[39mbool\u001b[39m:\n\u001b[0;32m--> <a href='file:///home/hat/dev-env/10Acadamy/smartAd-abtesting/venv/lib/python3.10/site-packages/dvc/fs/base.py?line=167'>168</a>\u001b[0m     \u001b[39mreturn\u001b[39;00m \u001b[39mself\u001b[39;49m\u001b[39m.\u001b[39;49mfs\u001b[39m.\u001b[39misdir(path)\n",
      "File \u001b[0;32m~/dev-env/10Acadamy/smartAd-abtesting/venv/lib/python3.10/site-packages/funcy/objects.py:50\u001b[0m, in \u001b[0;36mwrap_prop.<locals>.decorator.<locals>.WrapperProp.__get__\u001b[0;34m(self, instance, type)\u001b[0m\n\u001b[1;32m     <a href='file:///home/hat/dev-env/10Acadamy/smartAd-abtesting/venv/lib/python3.10/site-packages/funcy/objects.py?line=46'>47</a>\u001b[0m     \u001b[39mreturn\u001b[39;00m \u001b[39mself\u001b[39m\n\u001b[1;32m     <a href='file:///home/hat/dev-env/10Acadamy/smartAd-abtesting/venv/lib/python3.10/site-packages/funcy/objects.py?line=48'>49</a>\u001b[0m \u001b[39mwith\u001b[39;00m ctx:\n\u001b[0;32m---> <a href='file:///home/hat/dev-env/10Acadamy/smartAd-abtesting/venv/lib/python3.10/site-packages/funcy/objects.py?line=49'>50</a>\u001b[0m     \u001b[39mreturn\u001b[39;00m prop\u001b[39m.\u001b[39;49m\u001b[39m__get__\u001b[39;49m(instance, \u001b[39mtype\u001b[39;49m)\n",
      "File \u001b[0;32m~/dev-env/10Acadamy/smartAd-abtesting/venv/lib/python3.10/site-packages/funcy/objects.py:28\u001b[0m, in \u001b[0;36mcached_property.__get__\u001b[0;34m(self, instance, type)\u001b[0m\n\u001b[1;32m     <a href='file:///home/hat/dev-env/10Acadamy/smartAd-abtesting/venv/lib/python3.10/site-packages/funcy/objects.py?line=25'>26</a>\u001b[0m \u001b[39mif\u001b[39;00m instance \u001b[39mis\u001b[39;00m \u001b[39mNone\u001b[39;00m:\n\u001b[1;32m     <a href='file:///home/hat/dev-env/10Acadamy/smartAd-abtesting/venv/lib/python3.10/site-packages/funcy/objects.py?line=26'>27</a>\u001b[0m     \u001b[39mreturn\u001b[39;00m \u001b[39mself\u001b[39m\n\u001b[0;32m---> <a href='file:///home/hat/dev-env/10Acadamy/smartAd-abtesting/venv/lib/python3.10/site-packages/funcy/objects.py?line=27'>28</a>\u001b[0m res \u001b[39m=\u001b[39m instance\u001b[39m.\u001b[39m\u001b[39m__dict__\u001b[39m[\u001b[39mself\u001b[39m\u001b[39m.\u001b[39mfget\u001b[39m.\u001b[39m\u001b[39m__name__\u001b[39m] \u001b[39m=\u001b[39m \u001b[39mself\u001b[39;49m\u001b[39m.\u001b[39;49mfget(instance)\n\u001b[1;32m     <a href='file:///home/hat/dev-env/10Acadamy/smartAd-abtesting/venv/lib/python3.10/site-packages/funcy/objects.py?line=28'>29</a>\u001b[0m \u001b[39mreturn\u001b[39;00m res\n",
      "File \u001b[0;32m~/dev-env/10Acadamy/smartAd-abtesting/venv/lib/python3.10/site-packages/dvc/fs/git.py:48\u001b[0m, in \u001b[0;36mGitFileSystem.fs\u001b[0;34m(self)\u001b[0m\n\u001b[1;32m     <a href='file:///home/hat/dev-env/10Acadamy/smartAd-abtesting/venv/lib/python3.10/site-packages/dvc/fs/git.py?line=42'>43</a>\u001b[0m \u001b[39m@wrap_prop\u001b[39m(threading\u001b[39m.\u001b[39mLock())\n\u001b[1;32m     <a href='file:///home/hat/dev-env/10Acadamy/smartAd-abtesting/venv/lib/python3.10/site-packages/dvc/fs/git.py?line=43'>44</a>\u001b[0m \u001b[39m@cached_property\u001b[39m\n\u001b[1;32m     <a href='file:///home/hat/dev-env/10Acadamy/smartAd-abtesting/venv/lib/python3.10/site-packages/dvc/fs/git.py?line=44'>45</a>\u001b[0m \u001b[39mdef\u001b[39;00m \u001b[39mfs\u001b[39m(\u001b[39mself\u001b[39m) \u001b[39m-\u001b[39m\u001b[39m>\u001b[39m \u001b[39m\"\u001b[39m\u001b[39mFsspecGitFileSystem\u001b[39m\u001b[39m\"\u001b[39m:\n\u001b[1;32m     <a href='file:///home/hat/dev-env/10Acadamy/smartAd-abtesting/venv/lib/python3.10/site-packages/dvc/fs/git.py?line=45'>46</a>\u001b[0m     \u001b[39mfrom\u001b[39;00m \u001b[39mscmrepo\u001b[39;00m\u001b[39m.\u001b[39;00m\u001b[39mfs\u001b[39;00m \u001b[39mimport\u001b[39;00m GitFileSystem \u001b[39mas\u001b[39;00m FsspecGitFileSystem\n\u001b[0;32m---> <a href='file:///home/hat/dev-env/10Acadamy/smartAd-abtesting/venv/lib/python3.10/site-packages/dvc/fs/git.py?line=47'>48</a>\u001b[0m     \u001b[39mreturn\u001b[39;00m FsspecGitFileSystem(\u001b[39m*\u001b[39;49m\u001b[39m*\u001b[39;49m\u001b[39mself\u001b[39;49m\u001b[39m.\u001b[39;49mfs_args)\n",
      "File \u001b[0;32m~/dev-env/10Acadamy/smartAd-abtesting/venv/lib/python3.10/site-packages/fsspec/spec.py:68\u001b[0m, in \u001b[0;36m_Cached.__call__\u001b[0;34m(cls, *args, **kwargs)\u001b[0m\n\u001b[1;32m     <a href='file:///home/hat/dev-env/10Acadamy/smartAd-abtesting/venv/lib/python3.10/site-packages/fsspec/spec.py?line=65'>66</a>\u001b[0m     \u001b[39mreturn\u001b[39;00m \u001b[39mcls\u001b[39m\u001b[39m.\u001b[39m_cache[token]\n\u001b[1;32m     <a href='file:///home/hat/dev-env/10Acadamy/smartAd-abtesting/venv/lib/python3.10/site-packages/fsspec/spec.py?line=66'>67</a>\u001b[0m \u001b[39melse\u001b[39;00m:\n\u001b[0;32m---> <a href='file:///home/hat/dev-env/10Acadamy/smartAd-abtesting/venv/lib/python3.10/site-packages/fsspec/spec.py?line=67'>68</a>\u001b[0m     obj \u001b[39m=\u001b[39m \u001b[39msuper\u001b[39;49m()\u001b[39m.\u001b[39;49m\u001b[39m__call__\u001b[39;49m(\u001b[39m*\u001b[39;49margs, \u001b[39m*\u001b[39;49m\u001b[39m*\u001b[39;49mkwargs)\n\u001b[1;32m     <a href='file:///home/hat/dev-env/10Acadamy/smartAd-abtesting/venv/lib/python3.10/site-packages/fsspec/spec.py?line=68'>69</a>\u001b[0m     \u001b[39m# Setting _fs_token here causes some static linters to complain.\u001b[39;00m\n\u001b[1;32m     <a href='file:///home/hat/dev-env/10Acadamy/smartAd-abtesting/venv/lib/python3.10/site-packages/fsspec/spec.py?line=69'>70</a>\u001b[0m     obj\u001b[39m.\u001b[39m_fs_token_ \u001b[39m=\u001b[39m token\n",
      "File \u001b[0;32m~/dev-env/10Acadamy/smartAd-abtesting/venv/lib/python3.10/site-packages/scmrepo/fs.py:54\u001b[0m, in \u001b[0;36mGitFileSystem.__init__\u001b[0;34m(self, path, rev, scm, trie, rev_resolver, **kwargs)\u001b[0m\n\u001b[1;32m     <a href='file:///home/hat/dev-env/10Acadamy/smartAd-abtesting/venv/lib/python3.10/site-packages/scmrepo/fs.py?line=51'>52</a>\u001b[0m scm \u001b[39m=\u001b[39m scm \u001b[39mor\u001b[39;00m Git(path)\n\u001b[1;32m     <a href='file:///home/hat/dev-env/10Acadamy/smartAd-abtesting/venv/lib/python3.10/site-packages/scmrepo/fs.py?line=52'>53</a>\u001b[0m resolver \u001b[39m=\u001b[39m rev_resolver \u001b[39mor\u001b[39;00m Git\u001b[39m.\u001b[39mresolve_rev\n\u001b[0;32m---> <a href='file:///home/hat/dev-env/10Acadamy/smartAd-abtesting/venv/lib/python3.10/site-packages/scmrepo/fs.py?line=53'>54</a>\u001b[0m resolved \u001b[39m=\u001b[39m resolver(scm, rev \u001b[39mor\u001b[39;49;00m \u001b[39m\"\u001b[39;49m\u001b[39mHEAD\u001b[39;49m\u001b[39m\"\u001b[39;49m)\n\u001b[1;32m     <a href='file:///home/hat/dev-env/10Acadamy/smartAd-abtesting/venv/lib/python3.10/site-packages/scmrepo/fs.py?line=54'>55</a>\u001b[0m tree_obj \u001b[39m=\u001b[39m scm\u001b[39m.\u001b[39mpygit2\u001b[39m.\u001b[39mget_tree_obj(rev\u001b[39m=\u001b[39mresolved)\n\u001b[1;32m     <a href='file:///home/hat/dev-env/10Acadamy/smartAd-abtesting/venv/lib/python3.10/site-packages/scmrepo/fs.py?line=55'>56</a>\u001b[0m trie \u001b[39m=\u001b[39m GitTrie(tree_obj, resolved)\n",
      "File \u001b[0;32m~/dev-env/10Acadamy/smartAd-abtesting/venv/lib/python3.10/site-packages/dvc/scm.py:157\u001b[0m, in \u001b[0;36mresolve_rev\u001b[0;34m(scm, rev)\u001b[0m\n\u001b[1;32m    <a href='file:///home/hat/dev-env/10Acadamy/smartAd-abtesting/venv/lib/python3.10/site-packages/dvc/scm.py?line=153'>154</a>\u001b[0m     \u001b[39mif\u001b[39;00m ref_infos:\n\u001b[1;32m    <a href='file:///home/hat/dev-env/10Acadamy/smartAd-abtesting/venv/lib/python3.10/site-packages/dvc/scm.py?line=154'>155</a>\u001b[0m         \u001b[39mreturn\u001b[39;00m scm\u001b[39m.\u001b[39mget_ref(\u001b[39mstr\u001b[39m(ref_infos))\n\u001b[0;32m--> <a href='file:///home/hat/dev-env/10Acadamy/smartAd-abtesting/venv/lib/python3.10/site-packages/dvc/scm.py?line=156'>157</a>\u001b[0m \u001b[39mraise\u001b[39;00m RevError(\u001b[39mstr\u001b[39m(exc))\n",
      "\u001b[0;31mRevError\u001b[0m: unknown Git revision 'v0'"
     ]
    }
   ],
   "source": [
    "def dvc_get_data(path='Data/platform_os_6.csv', version='v3'):\n",
    "    repo = \"../\"\n",
    "    content = dvc.api.read(path=path, \n",
    "                        repo=repo, \n",
    "                        rev=version)\n",
    "    df = pd.read_csv(io.StringIO(content), sep=\",\")\n",
    "\n",
    "    return df\n",
    "\n",
    "df = dvc_get_data()\n",
    "df.info()\n"
   ]
  },
  {
   "cell_type": "code",
   "execution_count": 3,
   "metadata": {},
   "outputs": [],
   "source": [
    "x = df.drop(columns=['response'])\n",
    "y = df['response'].values"
   ]
  },
  {
   "cell_type": "code",
   "execution_count": 4,
   "metadata": {},
   "outputs": [],
   "source": [
    "model = LogisticRegression()\n"
   ]
  },
  {
   "cell_type": "code",
   "execution_count": 5,
   "metadata": {},
   "outputs": [
    {
     "name": "stdout",
     "output_type": "stream",
     "text": [
      "model_name: Baseline Logistic regression model_First run_Fri-May-20-18:30:30-2022\n"
     ]
    },
    {
     "name": "stderr",
     "output_type": "stream",
     "text": [
      "Successfully registered model 'Baseline Logistic regression model_First run_Fri-May-20-18:30:30-2022'.\n",
      "2022/05/20 18:30:35 INFO mlflow.tracking._model_registry.client: Waiting up to 300 seconds for model version to finish creation.                     Model name: Baseline Logistic regression model_First run_Fri-May-20-18:30:30-2022, version 1\n",
      "Created version '1' of model 'Baseline Logistic regression model_First run_Fri-May-20-18:30:30-2022'.\n"
     ]
    },
    {
     "name": "stdout",
     "output_type": "stream",
     "text": [
      "Run - First run is logged to Experiment - Baseline Logistic regression model\n"
     ]
    },
    {
     "data": {
      "text/plain": [
       "{'accuracy': 0.56, 'precision': 0.53, 'recall': 0.31, 'entropy': 0.69}"
      ]
     },
     "execution_count": 5,
     "metadata": {},
     "output_type": "execute_result"
    }
   ],
   "source": [
    "run_train_pipeline(model, x, y, \n",
    "                experiment_name='Logistic regression model',\n",
    "                run_name='first_run')"
   ]
  },
  {
   "cell_type": "code",
   "execution_count": 6,
   "metadata": {},
   "outputs": [],
   "source": [
    "# import mlflow\n",
    "# mlflow.end_run()"
   ]
  },
  {
   "cell_type": "code",
   "execution_count": null,
   "metadata": {},
   "outputs": [],
   "source": []
  }
 ],
 "metadata": {
  "interpreter": {
   "hash": "8d8f33d520962b57c61096e59946e3a6c3a8c0500c63ab855dff221ac8746e68"
  },
  "kernelspec": {
   "display_name": "Python 3.10.4 ('venv': venv)",
   "language": "python",
   "name": "python3"
  },
  "language_info": {
   "codemirror_mode": {
    "name": "ipython",
    "version": 3
   },
   "file_extension": ".py",
   "mimetype": "text/x-python",
   "name": "python",
   "nbconvert_exporter": "python",
   "pygments_lexer": "ipython3",
   "version": "3.10.4"
  },
  "orig_nbformat": 4
 },
 "nbformat": 4,
 "nbformat_minor": 2
}
